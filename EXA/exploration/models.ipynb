{
 "cells": [
  {
   "cell_type": "markdown",
   "metadata": {},
   "source": [
    "# Modelos"
   ]
  },
  {
   "cell_type": "code",
   "execution_count": 212,
   "metadata": {},
   "outputs": [],
   "source": [
    "import pandas as pd\n",
    "import numpy as np\n",
    "from sklearn.neighbors import KNeighborsClassifier\n",
    "from sklearn.model_selection import cross_validate, KFold\n",
    "from sklearn.neighbors import KNeighborsClassifier\n",
    "from sklearn.metrics import accuracy_score\n",
    "from sklearn.ensemble import RandomForestClassifier, GradientBoostingClassifier, VotingClassifier\n",
    "from sklearn.svm import SVC\n"
   ]
  },
  {
   "cell_type": "code",
   "execution_count": 197,
   "metadata": {},
   "outputs": [],
   "source": [
    "df = pd.read_pickle('df_transformado.pkl')\n",
    "df_test = pd.read_pickle('df_test_transformado.pkl')\n"
   ]
  },
  {
   "cell_type": "code",
   "execution_count": 194,
   "metadata": {},
   "outputs": [
    {
     "data": {
      "text/html": [
       "<div>\n",
       "<style scoped>\n",
       "    .dataframe tbody tr th:only-of-type {\n",
       "        vertical-align: middle;\n",
       "    }\n",
       "\n",
       "    .dataframe tbody tr th {\n",
       "        vertical-align: top;\n",
       "    }\n",
       "\n",
       "    .dataframe thead th {\n",
       "        text-align: right;\n",
       "    }\n",
       "</style>\n",
       "<table border=\"1\" class=\"dataframe\">\n",
       "  <thead>\n",
       "    <tr style=\"text-align: right;\">\n",
       "      <th></th>\n",
       "      <th>__Gender_Female</th>\n",
       "      <th>__Gender_Male</th>\n",
       "      <th>id</th>\n",
       "      <th>Age</th>\n",
       "      <th>Height</th>\n",
       "      <th>Weight</th>\n",
       "      <th>family_history_with_overweight</th>\n",
       "      <th>FAVC</th>\n",
       "      <th>FCVC</th>\n",
       "      <th>NCP</th>\n",
       "      <th>CAEC</th>\n",
       "      <th>SMOKE</th>\n",
       "      <th>CH2O</th>\n",
       "      <th>SCC</th>\n",
       "      <th>FAF</th>\n",
       "      <th>TUE</th>\n",
       "      <th>CALC</th>\n",
       "      <th>NObeyesdad</th>\n",
       "    </tr>\n",
       "  </thead>\n",
       "  <tbody>\n",
       "    <tr>\n",
       "      <th>0</th>\n",
       "      <td>0.0</td>\n",
       "      <td>1.0</td>\n",
       "      <td>0</td>\n",
       "      <td>24</td>\n",
       "      <td>1.699998</td>\n",
       "      <td>81.66995</td>\n",
       "      <td>1</td>\n",
       "      <td>1</td>\n",
       "      <td>2</td>\n",
       "      <td>3</td>\n",
       "      <td>1</td>\n",
       "      <td>0</td>\n",
       "      <td>2.763573</td>\n",
       "      <td>1</td>\n",
       "      <td>0.0</td>\n",
       "      <td>0.976473</td>\n",
       "      <td>1</td>\n",
       "      <td>3</td>\n",
       "    </tr>\n",
       "    <tr>\n",
       "      <th>1</th>\n",
       "      <td>1.0</td>\n",
       "      <td>0.0</td>\n",
       "      <td>1</td>\n",
       "      <td>18</td>\n",
       "      <td>1.56</td>\n",
       "      <td>57.0</td>\n",
       "      <td>1</td>\n",
       "      <td>1</td>\n",
       "      <td>2</td>\n",
       "      <td>3</td>\n",
       "      <td>2</td>\n",
       "      <td>0</td>\n",
       "      <td>2.0</td>\n",
       "      <td>1</td>\n",
       "      <td>1.0</td>\n",
       "      <td>1.0</td>\n",
       "      <td>0</td>\n",
       "      <td>1</td>\n",
       "    </tr>\n",
       "    <tr>\n",
       "      <th>2</th>\n",
       "      <td>1.0</td>\n",
       "      <td>0.0</td>\n",
       "      <td>2</td>\n",
       "      <td>18</td>\n",
       "      <td>1.71146</td>\n",
       "      <td>50.165754</td>\n",
       "      <td>1</td>\n",
       "      <td>1</td>\n",
       "      <td>2</td>\n",
       "      <td>1</td>\n",
       "      <td>1</td>\n",
       "      <td>0</td>\n",
       "      <td>1.910378</td>\n",
       "      <td>1</td>\n",
       "      <td>1.0</td>\n",
       "      <td>1.673584</td>\n",
       "      <td>0</td>\n",
       "      <td>0</td>\n",
       "    </tr>\n",
       "    <tr>\n",
       "      <th>3</th>\n",
       "      <td>1.0</td>\n",
       "      <td>0.0</td>\n",
       "      <td>3</td>\n",
       "      <td>21</td>\n",
       "      <td>1.71073</td>\n",
       "      <td>131.274851</td>\n",
       "      <td>1</td>\n",
       "      <td>1</td>\n",
       "      <td>3</td>\n",
       "      <td>3</td>\n",
       "      <td>1</td>\n",
       "      <td>0</td>\n",
       "      <td>1.674061</td>\n",
       "      <td>1</td>\n",
       "      <td>1.5</td>\n",
       "      <td>0.780199</td>\n",
       "      <td>1</td>\n",
       "      <td>6</td>\n",
       "    </tr>\n",
       "    <tr>\n",
       "      <th>4</th>\n",
       "      <td>0.0</td>\n",
       "      <td>1.0</td>\n",
       "      <td>4</td>\n",
       "      <td>32</td>\n",
       "      <td>1.914186</td>\n",
       "      <td>93.798055</td>\n",
       "      <td>1</td>\n",
       "      <td>1</td>\n",
       "      <td>3</td>\n",
       "      <td>2</td>\n",
       "      <td>1</td>\n",
       "      <td>0</td>\n",
       "      <td>1.979848</td>\n",
       "      <td>1</td>\n",
       "      <td>2.0</td>\n",
       "      <td>0.931721</td>\n",
       "      <td>1</td>\n",
       "      <td>3</td>\n",
       "    </tr>\n",
       "  </tbody>\n",
       "</table>\n",
       "</div>"
      ],
      "text/plain": [
       "  __Gender_Female __Gender_Male id  Age    Height      Weight  \\\n",
       "0             0.0           1.0  0   24  1.699998    81.66995   \n",
       "1             1.0           0.0  1   18      1.56        57.0   \n",
       "2             1.0           0.0  2   18   1.71146   50.165754   \n",
       "3             1.0           0.0  3   21   1.71073  131.274851   \n",
       "4             0.0           1.0  4   32  1.914186   93.798055   \n",
       "\n",
       "   family_history_with_overweight  FAVC  FCVC  NCP  CAEC  SMOKE      CH2O  \\\n",
       "0                               1     1     2    3     1      0  2.763573   \n",
       "1                               1     1     2    3     2      0       2.0   \n",
       "2                               1     1     2    1     1      0  1.910378   \n",
       "3                               1     1     3    3     1      0  1.674061   \n",
       "4                               1     1     3    2     1      0  1.979848   \n",
       "\n",
       "   SCC  FAF       TUE  CALC  NObeyesdad  \n",
       "0    1  0.0  0.976473     1           3  \n",
       "1    1  1.0       1.0     0           1  \n",
       "2    1  1.0  1.673584     0           0  \n",
       "3    1  1.5  0.780199     1           6  \n",
       "4    1  2.0  0.931721     1           3  "
      ]
     },
     "execution_count": 194,
     "metadata": {},
     "output_type": "execute_result"
    }
   ],
   "source": [
    "df.head()"
   ]
  },
  {
   "cell_type": "code",
   "execution_count": 198,
   "metadata": {},
   "outputs": [],
   "source": [
    "y = df['NObeyesdad']\n",
    "id = df['id']\n",
    "X = df.drop(['NObeyesdad','id'], axis=1)\n",
    "\n",
    "y = y.to_numpy()\n",
    "X = X.to_numpy()\n",
    "\n",
    "id_test = df_test['id']\n",
    "X_test = df_test.drop(['id'],axis=1).to_numpy()"
   ]
  },
  {
   "cell_type": "code",
   "execution_count": 179,
   "metadata": {},
   "outputs": [],
   "source": [
    "nobsedy_invertio = {3: 'Overweight_Level_II', 1: 'Normal_Weight', 0: 'Insufficient_Weight',\n",
    "                     6: 'Obesity_Type_III', 5: 'Obesity_Type_II', 2: 'Overweight_Level_I', 4: 'Obesity_Type_I'}\n"
   ]
  },
  {
   "cell_type": "markdown",
   "metadata": {},
   "source": [
    "## KNN"
   ]
  },
  {
   "cell_type": "code",
   "execution_count": 217,
   "metadata": {},
   "outputs": [
    {
     "name": "stdout",
     "output_type": "stream",
     "text": [
      "fold 0> accuracy =  0.8540462427745664\n",
      "fold 1> accuracy =  0.8554913294797688\n",
      "fold 2> accuracy =  0.848747591522158\n",
      "fold 3> accuracy =  0.853082851637765\n",
      "fold 4> accuracy =  0.8453757225433526\n",
      "fold 5> accuracy =  0.8458574181117534\n",
      "fold 6> accuracy =  0.8598265895953757\n",
      "fold 7> accuracy =  0.846820809248555\n",
      "fold 8> accuracy =  0.8563855421686747\n",
      "fold 9> accuracy =  0.8587951807228915\n",
      "Accuracy Mean: 0.852, Standard Deviation: 0.005\n"
     ]
    }
   ],
   "source": [
    "# k-fold cross validation\n",
    "scores = list()\n",
    "kfold = KFold(10, shuffle=True, random_state=4)\n",
    "\n",
    "for k, (train, test) in enumerate(kfold.split(X, y)):\n",
    "\t# get data\n",
    "\ttrain_X, test_X = X[train], X[test]\n",
    "\ttrain_y, test_y = y[train], y[test]\n",
    "\t# fit model\n",
    "\tmodel = KNeighborsClassifier(n_neighbors=10)\n",
    "\tmodel.fit(train_X, train_y)\n",
    "\t# evaluate model\n",
    "\typred = model.predict(test_X)\n",
    "\tacc = accuracy_score(test_y, ypred)\n",
    "\t# store score\n",
    "\tscores.append(acc)\n",
    "\tprint(f'fold {k}> accuracy = ', acc)\n",
    "\n",
    "# summarize model performance\n",
    "mean_s, std_s = np.mean(scores), np.std(scores)\n",
    "print('Accuracy Mean: %.3f, Standard Deviation: %.3f' % (mean_s, std_s))\n",
    "\n"
   ]
  },
  {
   "cell_type": "code",
   "execution_count": 181,
   "metadata": {},
   "outputs": [],
   "source": [
    "knnmodel = KNeighborsClassifier()"
   ]
  },
  {
   "cell_type": "markdown",
   "metadata": {},
   "source": [
    "## Floresta de Árvore de Decisão"
   ]
  },
  {
   "cell_type": "code",
   "execution_count": 182,
   "metadata": {},
   "outputs": [
    {
     "name": "stdout",
     "output_type": "stream",
     "text": [
      "fold 0> accuracy =  0.9084778420038536\n",
      "fold 1> accuracy =  0.8916184971098265\n",
      "fold 2> accuracy =  0.8858381502890174\n",
      "fold 3> accuracy =  0.8930635838150289\n",
      "fold 4> accuracy =  0.8945086705202312\n",
      "fold 5> accuracy =  0.896917148362235\n",
      "fold 6> accuracy =  0.901252408477842\n",
      "fold 7> accuracy =  0.888728323699422\n",
      "fold 8> accuracy =  0.9012048192771084\n",
      "fold 9> accuracy =  0.896867469879518\n",
      "Accuracy Mean: 0.896, Standard Deviation: 0.006\n"
     ]
    }
   ],
   "source": [
    "# k-fold cross validation\n",
    "scores = list()\n",
    "kfold = KFold(10, shuffle=True, random_state=4)\n",
    "\n",
    "for k, (train, test) in enumerate(kfold.split(X, y)):\n",
    "\t# get data\n",
    "\ttrain_X, test_X = X[train], X[test]\n",
    "\ttrain_y, test_y = y[train], y[test]\n",
    "\t# fit model\n",
    "\tmodel = RandomForestClassifier(n_estimators=300)\n",
    "\tmodel.fit(train_X, train_y)\n",
    "\t# evaluate model\n",
    "\typred = model.predict(test_X)\n",
    "\tacc = accuracy_score(test_y, ypred)\n",
    "\t# store score\n",
    "\tscores.append(acc)\n",
    "\tprint(f'fold {k}> accuracy = ', acc)\n",
    "\n",
    "# summarize model performance\n",
    "mean_s, std_s = np.mean(scores), np.std(scores)\n",
    "print('Accuracy Mean: %.3f, Standard Deviation: %.3f' % (mean_s, std_s))"
   ]
  },
  {
   "cell_type": "code",
   "execution_count": 211,
   "metadata": {},
   "outputs": [],
   "source": [
    "rf_model = RandomForestClassifier(n_estimators=300)\n",
    "rf_model.fit(X,y)\n",
    "y_pred = rf_model.predict(X_test)\n"
   ]
  },
  {
   "cell_type": "code",
   "execution_count": null,
   "metadata": {},
   "outputs": [],
   "source": [
    "df_random_forest = pd.DataFrame({'id': id_test, 'NObeyesdad': y_pred})\n",
    "df_random_forest['NObeyesdad']  = df_random_forest['NObeyesdad'].map(nobsedy_invertio)\n",
    "\n",
    "df_random_forest.to_csv('submtions/randomforest.csv', index=False, sep=',')\n"
   ]
  },
  {
   "cell_type": "markdown",
   "metadata": {},
   "source": [
    "## Gradient Boost"
   ]
  },
  {
   "cell_type": "markdown",
   "metadata": {},
   "source": [
    "O algoritmo foi testado de três formas, removendo CH2O, TUE e FAF, teve perdas pequenas no treinamento. Ao usar n_estimator=300, o treinamento teve bons resultados, todavia a acuracia caiu no teste."
   ]
  },
  {
   "cell_type": "code",
   "execution_count": 203,
   "metadata": {},
   "outputs": [
    {
     "name": "stdout",
     "output_type": "stream",
     "text": [
      "fold 0> accuracy =  0.9051059730250481\n",
      "fold 1> accuracy =  0.9036608863198459\n",
      "fold 2> accuracy =  0.8930635838150289\n",
      "fold 3> accuracy =  0.896917148362235\n",
      "fold 4> accuracy =  0.905587668593449\n",
      "fold 5> accuracy =  0.9046242774566474\n",
      "fold 6> accuracy =  0.9104046242774566\n",
      "fold 7> accuracy =  0.8921001926782274\n",
      "fold 8> accuracy =  0.9074698795180723\n",
      "fold 9> accuracy =  0.9050602409638554\n",
      "Accuracy Mean: 0.902, Standard Deviation: 0.006\n"
     ]
    }
   ],
   "source": [
    "scores = list()\n",
    "kfold = KFold(10, shuffle=True, random_state=4)\n",
    "\n",
    "for k, (train, test) in enumerate(kfold.split(X, y)):\n",
    "\t# get data\n",
    "\ttrain_X, test_X = X[train], X[test]\n",
    "\ttrain_y, test_y = y[train], y[test]\n",
    "\t# fit model\n",
    "\tmodel =  GradientBoostingClassifier()\n",
    "\tmodel.fit(train_X, train_y)\n",
    "\t# evaluate model\n",
    "\typred = model.predict(test_X)\n",
    "\tacc = accuracy_score(test_y, ypred)\n",
    "\t# store score\n",
    "\tscores.append(acc)\n",
    "\tprint(f'fold {k}> accuracy = ', acc)\n",
    "\n",
    "# summarize model performance\n",
    "mean_s, std_s = np.mean(scores), np.std(scores)\n",
    "print('Accuracy Mean: %.3f, Standard Deviation: %.3f' % (mean_s, std_s))"
   ]
  },
  {
   "cell_type": "code",
   "execution_count": 201,
   "metadata": {},
   "outputs": [],
   "source": [
    "gb_model = GradientBoostingClassifier()\n",
    "gb_model.fit(X,y)\n",
    "y_pred = gb_model.predict(X_test)"
   ]
  },
  {
   "cell_type": "code",
   "execution_count": 202,
   "metadata": {},
   "outputs": [],
   "source": [
    "df_gradient_boosting = pd.DataFrame({'id': id_test, 'NObeyesdad': y_pred})\n",
    "df_gradient_boosting['NObeyesdad']  = df_gradient_boosting['NObeyesdad'].map(nobsedy_invertio)\n",
    "\n",
    "df_gradient_boosting.to_csv('submtions/gradient_boosting.csv', index=False, sep=',')"
   ]
  },
  {
   "cell_type": "markdown",
   "metadata": {},
   "source": [
    "## Voting Classifier"
   ]
  },
  {
   "cell_type": "code",
   "execution_count": null,
   "metadata": {},
   "outputs": [],
   "source": [
    "scores = list()\n",
    "kfold = KFold(10, shuffle=True, random_state=4)\n",
    "\n",
    "for k, (train, test) in enumerate(kfold.split(X, y)):\n",
    "\t# get data\n",
    "\ttrain_X, test_X = X[train], X[test]\n",
    "\ttrain_y, test_y = y[train], y[test]\n",
    "\t# fit model\n",
    "\tclf2 = RandomForestClassifier(n_estimators=300, random_state=1)\n",
    "\tclf1 = GradientBoostingClassifier()\n",
    "\tclf3 = GradientBoostingClassifier(n_estimators=300)\n",
    "\tmodel = VotingClassifier( estimators=[('gdb', clf1), ('rf', clf2), ('gdb300', clf3)],  voting='hard')\n",
    "\tmodel.fit(train_X, train_y)\n",
    "\t# evaluate model\n",
    "\typred = model.predict(test_X)\n",
    "\tacc = accuracy_score(test_y, ypred)\n",
    "\t# store score\n",
    "\tscores.append(acc)\n",
    "\tprint(f'fold {k}> accuracy = ', acc)\n",
    "\n",
    "# summarize model performance\n",
    "mean_s, std_s = np.mean(scores), np.std(scores)\n",
    "print('Accuracy Mean: %.3f, Standard Deviation: %.3f' % (mean_s, std_s))"
   ]
  }
 ],
 "metadata": {
  "kernelspec": {
   "display_name": "base",
   "language": "python",
   "name": "python3"
  },
  "language_info": {
   "codemirror_mode": {
    "name": "ipython",
    "version": 3
   },
   "file_extension": ".py",
   "mimetype": "text/x-python",
   "name": "python",
   "nbconvert_exporter": "python",
   "pygments_lexer": "ipython3",
   "version": "3.11.5"
  }
 },
 "nbformat": 4,
 "nbformat_minor": 2
}
